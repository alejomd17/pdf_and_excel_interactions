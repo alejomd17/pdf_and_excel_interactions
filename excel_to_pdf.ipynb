# Tiene que instalar reportlab
# !py -m pip install reportlab

import pandas as pd
from reportlab.pdfgen import canvas
from reportlab.lib.pagesizes import letter
from reportlab.platypus import SimpleDocTemplate, Table, TableStyle

def excel_to_pdf(excel_filename, pdf_filename):
    # Leer el archivo de Excel en un DataFrame de pandas
    df = pd.read_excel(excel_filename)
    
    # Crear un objeto PDF y definir el tamaño de página
    pdf = SimpleDocTemplate(pdf_filename, pagesize=letter)
    
    # Crear una lista de listas con los datos del DataFrame
    data = [list(df.columns)]  # Encabezados de columna
    data.extend(df.values.tolist())  # Filas de datos
    
    # Crear una tabla con los datos de pandas
    table = Table(data)
    
    # Estilo de la tabla
    style = TableStyle([
        ('BACKGROUND', (0, 0), (-1, 0), (0.8, 0.8, 0.8)),
        ('TEXTCOLOR', (0, 0), (-1, 0), (0, 0, 0)),
        ('ALIGN', (0, 0), (-1, -1), 'CENTER'),
        ('FONTNAME', (0, 0), (-1, 0), 'Helvetica-Bold'),
        ('BOTTOMPADDING', (0, 0), (-1, 0), 12),
        ('BACKGROUND', (0, 1), (-1, -1), (0.9, 0.9, 0.9)),
        ('GRID', (0, 0), (-1, -1), 1, (0, 0, 0)),
    ])
    table.setStyle(style)
    
    # Crear la lista de elementos PDF y agregar la tabla
    elements = [table]
    
    # Generar el archivo PDF
    pdf.build(elements)

if __name__ == "__main__":
    excel_filename = "Su arhivo de excel, ejemplo: df_eeff.xlsx"
    pdf_filename = "Su resultado en pdf, ejemplo: resultado.pdf"
    excel_to_pdf(excel_filename, pdf_filename)
