# Librería a instalar 
# !pip install tabula-py

# Librerías principales
import tabula
import pandas as pd
import os

# Desarrollo
# os.chdir('ruta de los pdf') # Acá escribes la ruta donde están los pdfs, la carpeta, no el nombre de los archivos
pdfs = os.listdir()
pdfs = [pdf for pdf in pdfs if '.pdf' in pdf]

pdf_union = pd.DataFrame()
for pdf in pdfs:
  pdf_temp = tabula.read_pdf(pdf, pages='all')[0]
  pdf_union = pd.concat([pdf_union, pdf_temp], axis = 0)

pdf_union = pdf_union.reset_index(drop = True)
pdf_union.to_csv('pdf_union.csv', index=False)
